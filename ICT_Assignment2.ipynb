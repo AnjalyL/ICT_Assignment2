{
 "cells": [
  {
   "cell_type": "code",
   "execution_count": 1,
   "id": "4df32780",
   "metadata": {},
   "outputs": [],
   "source": [
    "# Question 1"
   ]
  },
  {
   "cell_type": "code",
   "execution_count": 2,
   "id": "340ac4a2",
   "metadata": {},
   "outputs": [
    {
     "name": "stdout",
     "output_type": "stream",
     "text": [
      "Enter the marks74\n"
     ]
    }
   ],
   "source": [
    "marks = int(input(\"Enter the marks\"))"
   ]
  },
  {
   "cell_type": "code",
   "execution_count": 3,
   "id": "ede285f0",
   "metadata": {},
   "outputs": [
    {
     "name": "stdout",
     "output_type": "stream",
     "text": [
      " Grade is B\n"
     ]
    }
   ],
   "source": [
    "if marks > 80:\n",
    "    print(\" Grade is A\")\n",
    "elif 60<marks<=80:\n",
    "    print(\" Grade is B\")\n",
    "elif 50<marks<=60:\n",
    "    print(\" Grade is C\")\n",
    "elif 45<marks<=50:\n",
    "    print(\" Grade is D\")\n",
    "elif 25<=marks<=45:\n",
    "    print(\" Grade is E\")\n",
    "else: \n",
    "    print(\" Grade is F\")"
   ]
  },
  {
   "cell_type": "code",
   "execution_count": 4,
   "id": "fc3d0182",
   "metadata": {},
   "outputs": [],
   "source": [
    "\n",
    "    # Question 2"
   ]
  },
  {
   "cell_type": "code",
   "execution_count": 5,
   "id": "55832b8c",
   "metadata": {},
   "outputs": [
    {
     "name": "stdout",
     "output_type": "stream",
     "text": [
      "John\n",
      "Peter\n",
      "Meera\n",
      "Mini\n",
      "Krishna\n"
     ]
    }
   ],
   "source": [
    "list = ['John','Peter','Meera','Mini','Krishna']\n",
    "c =0\n",
    "for a in list:\n",
    "    print (a)"
   ]
  },
  {
   "cell_type": "code",
   "execution_count": 6,
   "id": "7d8f2c52",
   "metadata": {},
   "outputs": [],
   "source": [
    "\n",
    "    # Question 3"
   ]
  },
  {
   "cell_type": "code",
   "execution_count": 7,
   "id": "aff1b192",
   "metadata": {},
   "outputs": [
    {
     "name": "stdout",
     "output_type": "stream",
     "text": [
      "enter the length40\n"
     ]
    }
   ],
   "source": [
    "length = int(input(\"enter the length\"))"
   ]
  },
  {
   "cell_type": "code",
   "execution_count": 8,
   "id": "86fcb5d5",
   "metadata": {},
   "outputs": [
    {
     "name": "stdout",
     "output_type": "stream",
     "text": [
      "enter the breadth48\n"
     ]
    }
   ],
   "source": [
    "breadth = int(input(\"enter the breadth\"))"
   ]
  },
  {
   "cell_type": "code",
   "execution_count": 9,
   "id": "90241640",
   "metadata": {},
   "outputs": [
    {
     "name": "stdout",
     "output_type": "stream",
     "text": [
      "It is not a square\n"
     ]
    }
   ],
   "source": [
    "if length==breadth:\n",
    "    print(\"It is a square\")\n",
    "else:\n",
    "    print(\"It is not a square\")\n",
    "    \n",
    "    "
   ]
  },
  {
   "cell_type": "code",
   "execution_count": 10,
   "id": "d3cfe071",
   "metadata": {},
   "outputs": [],
   "source": [
    "\n",
    "    # Question 4"
   ]
  },
  {
   "cell_type": "code",
   "execution_count": 11,
   "id": "a96c42b2",
   "metadata": {},
   "outputs": [
    {
     "name": "stdout",
     "output_type": "stream",
     "text": [
      "enter the number of classes held100\n",
      "enter the number of classes Attended52\n",
      "Not eligible for writing exam\n"
     ]
    }
   ],
   "source": [
    "classesHeld = int(input(\"enter the number of classes held\"))\n",
    "classesAttended = int(input(\"enter the number of classes Attended\"))\n",
    "percent = classesAttended /classesHeld\n",
    "if percent<=0.75:\n",
    "    print(\"Not eligible for writing exam\")\n",
    "else:\n",
    "    print(\"Eligible for writing exam\")"
   ]
  },
  {
   "cell_type": "code",
   "execution_count": 12,
   "id": "224ca719",
   "metadata": {},
   "outputs": [],
   "source": [
    "  # Question 5"
   ]
  },
  {
   "cell_type": "code",
   "execution_count": 13,
   "id": "26cf8e1f",
   "metadata": {},
   "outputs": [
    {
     "name": "stdout",
     "output_type": "stream",
     "text": [
      "enter the length of list5\n",
      "enter the number1\n",
      "enter the number2\n",
      "enter the number3\n",
      "enter the number4\n",
      "enter the number5\n",
      "[1, 2, 3, 4, 5]\n"
     ]
    }
   ],
   "source": [
    "length =int(input(\"enter the length of list\"))\n",
    "list1 = []\n",
    "for i in range (length):\n",
    "    a = int(input(\"enter the number\"))\n",
    "    list1.append(a)\n",
    "    \n",
    "print (list1)\n"
   ]
  },
  {
   "cell_type": "code",
   "execution_count": 14,
   "id": "fd9d15ff",
   "metadata": {},
   "outputs": [
    {
     "name": "stdout",
     "output_type": "stream",
     "text": [
      "15\n"
     ]
    }
   ],
   "source": [
    "Sum =0\n",
    "for i in list1:\n",
    "    Sum = Sum+i\n",
    "print(Sum)"
   ]
  },
  {
   "cell_type": "code",
   "execution_count": 15,
   "id": "44cecf38",
   "metadata": {},
   "outputs": [
    {
     "name": "stdout",
     "output_type": "stream",
     "text": [
      "[2, 4]\n",
      "[1, 3, 5]\n"
     ]
    }
   ],
   "source": [
    "odd1 = []\n",
    "even1= []\n",
    "for i in list1:\n",
    "    if i%2==0:\n",
    "        even1.append(i)\n",
    "    else:\n",
    "        odd1.append(i)\n",
    "print (even1)\n",
    "print (odd1)"
   ]
  },
  {
   "cell_type": "code",
   "execution_count": 16,
   "id": "29841558",
   "metadata": {},
   "outputs": [],
   "source": [
    "  # Question 7"
   ]
  },
  {
   "cell_type": "code",
   "execution_count": 24,
   "id": "a963f54e",
   "metadata": {},
   "outputs": [
    {
     "name": "stdout",
     "output_type": "stream",
     "text": [
      "enter the coefficient of x^21\n",
      "enter the coefficient of x6\n",
      "enter the constant9\n",
      "d =  0\n",
      "The roots are real and equal\n",
      "The roots are: -3.0 -3.0\n"
     ]
    }
   ],
   "source": [
    "a = int(input(\"enter the coefficient of x^2\"))\n",
    "b = int(input(\"enter the coefficient of x\"))\n",
    "c = int(input(\"enter the constant\"))\n",
    "d = (b**2)-(4*a*c)\n",
    "print(\"d = \", d)\n",
    "if d>0:\n",
    "    print(\"The roots are real and distinct\")\n",
    "    print(\"The roots are:\", (-b+((b**2)-(4*a*c))**1/2))/(2*a), (-b-((b**2)-(4*a*c))**1/2)/(2*a)\n",
    "elif d<0:\n",
    "    print(\"The roots are imaginary\")\n",
    "    print(\"The roots are:\", (-b+((b**2)-(4*a*c))**1/2))/(2*a), (-b-((b**2)-(4*a*c))**1/2)/(2*a)\n",
    "else:\n",
    "    print(\"The roots are real and equal\")\n",
    "    print(\"The roots are:\",(-b/(2*a)),(-b/(2*a)))\n",
    "    \n",
    "    "
   ]
  },
  {
   "cell_type": "code",
   "execution_count": null,
   "id": "515db78a",
   "metadata": {},
   "outputs": [],
   "source": [
    "  # Question 8"
   ]
  },
  {
   "cell_type": "code",
   "execution_count": 25,
   "id": "3ddd9a86",
   "metadata": {},
   "outputs": [
    {
     "name": "stdout",
     "output_type": "stream",
     "text": [
      "1 Current Number 1 Previous Number 0 Sum: 1\n",
      "2 Current Number 2 Previous Number 1 Sum: 3\n",
      "3 Current Number 3 Previous Number 2 Sum: 5\n",
      "4 Current Number 4 Previous Number 3 Sum: 7\n",
      "5 Current Number 5 Previous Number 4 Sum: 9\n",
      "6 Current Number 6 Previous Number 5 Sum: 11\n",
      "7 Current Number 7 Previous Number 6 Sum: 13\n",
      "8 Current Number 8 Previous Number 7 Sum: 15\n",
      "9 Current Number 9 Previous Number 8 Sum: 17\n",
      "10 Current Number 10 Previous Number 9 Sum: 19\n"
     ]
    }
   ],
   "source": [
    "for i in range (0,10):\n",
    "    print (i+1, end = \" \")\n",
    "    print(\"Current Number\", (i+1) ,\"Previous Number\", i,\"Sum:\", i+i+1)\n"
   ]
  },
  {
   "cell_type": "code",
   "execution_count": null,
   "id": "a193ee8d",
   "metadata": {},
   "outputs": [],
   "source": [
    " # Question 9"
   ]
  },
  {
   "cell_type": "code",
   "execution_count": 35,
   "id": "b0b1e7b4",
   "metadata": {},
   "outputs": [
    {
     "name": "stdout",
     "output_type": "stream",
     "text": [
      "Enter the Lowest Range Value: 6\n",
      "Enter the Upper Range Value: 21\n",
      "The Prime Numbers in the range are: \n",
      "7\n",
      "11\n",
      "13\n",
      "17\n",
      "19\n"
     ]
    }
   ],
   "source": [
    "lower_value = int(input (\"Enter the Lowest Range Value: \"))  \n",
    "upper_value = int(input (\"Enter the Upper Range Value: \"))  \n",
    "  \n",
    "print (\"The Prime Numbers in the range are: \")  \n",
    "for number in range (lower_value, upper_value + 1):  \n",
    "    if number > 1:  \n",
    "        for i in range (2, number):  \n",
    "            if (number % i) == 0:  \n",
    "                break  \n",
    "        else:  \n",
    "            print (number)  \n",
    "   \n"
   ]
  },
  {
   "cell_type": "code",
   "execution_count": 33,
   "id": "09c3637b",
   "metadata": {},
   "outputs": [],
   "source": [
    " # Question 10"
   ]
  },
  {
   "cell_type": "code",
   "execution_count": 37,
   "id": "28000822",
   "metadata": {},
   "outputs": [
    {
     "name": "stdout",
     "output_type": "stream",
     "text": [
      "Range6\n",
      "The fibonacci sequence of the numbers is:\n",
      "0\n",
      "1\n",
      "1\n",
      "2\n",
      "3\n",
      "5\n"
     ]
    }
   ],
   "source": [
    "number = int(input (\"Range\"))  \n",
    "n1 = 0  \n",
    "n2 = 1  \n",
    "count = 0  \n",
    "if number == 1:  \n",
    "    print (\"The Fibonacci sequence of the numbers up to\", number, \": \")  \n",
    "    print(n1)  \n",
    "else:  \n",
    "    print (\"The fibonacci sequence of the numbers is:\")  \n",
    "    while count < number:  \n",
    "        print(n1)  \n",
    "        n = n1 + n2   \n",
    "        n1 = n2  \n",
    "        n2 = n  \n",
    "        count += 1  "
   ]
  },
  {
   "cell_type": "code",
   "execution_count": null,
   "id": "3f82bf43",
   "metadata": {},
   "outputs": [],
   "source": []
  },
  {
   "cell_type": "code",
   "execution_count": null,
   "id": "946cbc1c",
   "metadata": {},
   "outputs": [],
   "source": []
  },
  {
   "cell_type": "code",
   "execution_count": null,
   "id": "ed27501b",
   "metadata": {},
   "outputs": [],
   "source": []
  },
  {
   "cell_type": "code",
   "execution_count": null,
   "id": "1e94eb47",
   "metadata": {},
   "outputs": [],
   "source": []
  },
  {
   "cell_type": "code",
   "execution_count": null,
   "id": "61007f29",
   "metadata": {},
   "outputs": [],
   "source": []
  },
  {
   "cell_type": "code",
   "execution_count": null,
   "id": "1ffb9771",
   "metadata": {},
   "outputs": [],
   "source": []
  }
 ],
 "metadata": {
  "kernelspec": {
   "display_name": "Python 3 (ipykernel)",
   "language": "python",
   "name": "python3"
  },
  "language_info": {
   "codemirror_mode": {
    "name": "ipython",
    "version": 3
   },
   "file_extension": ".py",
   "mimetype": "text/x-python",
   "name": "python",
   "nbconvert_exporter": "python",
   "pygments_lexer": "ipython3",
   "version": "3.9.12"
  }
 },
 "nbformat": 4,
 "nbformat_minor": 5
}
